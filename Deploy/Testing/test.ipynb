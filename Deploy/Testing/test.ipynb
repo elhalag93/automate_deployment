{
 "cells": [
  {
   "cell_type": "code",
   "execution_count": 24,
   "metadata": {},
   "outputs": [],
   "source": [
    "import os\n",
    "import paramiko\n",
    "import pandas as pd\n",
    "import time\n",
    "import pycurl\n",
    "from selenium import webdriver\n",
    "import certifi\n",
    "from io import BytesIO\n",
    "import urllib3\n",
    "import json\n",
    "from rich.console import Console\n",
    "from selenium.webdriver.support.ui import WebDriverWait\n",
    "from selenium.webdriver.common.by import By\n",
    "from selenium.webdriver.support import expected_conditions as EC\n",
    "from selenium.webdriver.common.keys import Keys\n"
   ]
  },
  {
   "cell_type": "code",
   "execution_count": 25,
   "metadata": {},
   "outputs": [],
   "source": [
    "confs = open(\"../config.json\")\n",
    "confs = json.load(confs)\n",
    "\n",
    "server = confs[\"server\"]\n",
    "port = confs[\"port\"]\n",
    "username = confs[\"username\"]\n",
    "password = confs[\"password\"]\n",
    "DeployBranch = confs[\"DeployBranch\"]\n",
    "githubKey = confs[\"githubKey\"]\n",
    "RepoLink = confs[\"RepoLink\"]\n",
    "domain = confs[\"domain\"]\n",
    "RootUrl = confs[\"RootUrl\"]\n",
    "sudomains = confs[\"sudomains\"]\n",
    "folderName = RepoLink.split(\"/\")[4].replace(\".git\", \"\")\n",
    "repoServerpath = ''\n",
    "clientPath = \"\" if confs[\"clientPath\"] == \"/\" else confs[\"clientPath\"]\n",
    "console=Console()"
   ]
  },
  {
   "cell_type": "code",
   "execution_count": 26,
   "metadata": {},
   "outputs": [],
   "source": [
    "#https://leila.leila.care/\n",
    "#93.92.134.143\n",
    "#https://prelive.leila.de\n",
    "#https://webapp.leila.de\n",
    "# p1Zz09#\n",
    "\n",
    "SeleniumData = [\n",
    "    ['https://example.com/',\n",
    "    'in?|Domain'],\n",
    "    ['https://lgtest.Kaiserfranz-engineering.de',\n",
    "    'in?|welcome to lgtest'],\n",
    "    ['https://aottest.Kaiserfranz-engineering.de',\n",
    "    'in?|welcome to aottest'],\n",
    "    ['https://api.kaiserfranz-engineering.de/',\n",
    "    'in?|test'],\n",
    "    ['https://api.kaiserfranz-engineering.de/api',\n",
    "    'in?|models']\n",
    "]"
   ]
  },
  {
   "cell_type": "code",
   "execution_count": 29,
   "metadata": {},
   "outputs": [
    {
     "name": "stderr",
     "output_type": "stream",
     "text": [
      "C:\\Users\\franz\\AppData\\Local\\Temp/ipykernel_15276/4215595938.py:4: DeprecationWarning: executable_path has been deprecated, please pass in a Service object\n",
      "  driver = webdriver.Edge(executable_path = r\"./msedgedriver.exe\") # Modify the path here...\n"
     ]
    },
    {
     "name": "stdout",
     "output_type": "stream",
     "text": [
      "gettting https://example.com/\n",
      "test for site containing text \n",
      "site should contain Domain\n"
     ]
    },
    {
     "data": {
      "text/html": [
       "<pre style=\"white-space:pre;overflow-x:auto;line-height:normal;font-family:Menlo,'DejaVu Sans Mono',consolas,'Courier New',monospace\"><span style=\"color: #008000; text-decoration-color: #008000; background-color: #c0c0c0; font-weight: bold\">Test for </span><span style=\"color: #0000ff; text-decoration-color: #0000ff; background-color: #c0c0c0; text-decoration: underline\">https://example.com/</span><span style=\"color: #008000; text-decoration-color: #008000; background-color: #c0c0c0; font-weight: bold\"> returns: SUCCESS                                                                     </span>\n",
       "</pre>\n"
      ],
      "text/plain": [
       "\u001b[1;32;47mTest for \u001b[0m\u001b[4;94;47mhttps://example.com/\u001b[0m\u001b[1;32;47m returns: SUCCESS\u001b[0m\u001b[1;32;47m                                                                     \u001b[0m\n"
      ]
     },
     "metadata": {},
     "output_type": "display_data"
    },
    {
     "name": "stdout",
     "output_type": "stream",
     "text": [
      "gettting https://lgtest.Kaiserfranz-engineering.de\n"
     ]
    },
    {
     "data": {
      "text/html": [
       "<pre style=\"white-space:pre;overflow-x:auto;line-height:normal;font-family:Menlo,'DejaVu Sans Mono',consolas,'Courier New',monospace\"><span style=\"color: #800000; text-decoration-color: #800000; background-color: #c0c0c0; font-weight: bold\">Test for </span><span style=\"color: #0000ff; text-decoration-color: #0000ff; background-color: #c0c0c0; text-decoration: underline\">https://lgtest.Kaiserfranz-engineering.de</span><span style=\"color: #800000; text-decoration-color: #800000; background-color: #c0c0c0; font-weight: bold\"> returns: Failed                                                 </span>\n",
       "</pre>\n"
      ],
      "text/plain": [
       "\u001b[1;31;47mTest for \u001b[0m\u001b[4;94;47mhttps://lgtest.Kaiserfranz-engineering.de\u001b[0m\u001b[1;31;47m returns: Failed\u001b[0m\u001b[1;31;47m                                                 \u001b[0m\n"
      ]
     },
     "metadata": {},
     "output_type": "display_data"
    },
    {
     "name": "stdout",
     "output_type": "stream",
     "text": [
      "https://lgtest.Kaiserfranz-engineering.de\n",
      "()\n",
      "test for site containing text \n",
      "site should contain welcome to lgtest\n",
      "gettting https://aottest.Kaiserfranz-engineering.de\n"
     ]
    },
    {
     "data": {
      "text/html": [
       "<pre style=\"white-space:pre;overflow-x:auto;line-height:normal;font-family:Menlo,'DejaVu Sans Mono',consolas,'Courier New',monospace\"><span style=\"color: #800000; text-decoration-color: #800000; background-color: #c0c0c0; font-weight: bold\">Test for </span><span style=\"color: #0000ff; text-decoration-color: #0000ff; background-color: #c0c0c0; text-decoration: underline\">https://aottest.Kaiserfranz-engineering.de</span><span style=\"color: #800000; text-decoration-color: #800000; background-color: #c0c0c0; font-weight: bold\"> returns: Failed                                                </span>\n",
       "</pre>\n"
      ],
      "text/plain": [
       "\u001b[1;31;47mTest for \u001b[0m\u001b[4;94;47mhttps://aottest.Kaiserfranz-engineering.de\u001b[0m\u001b[1;31;47m returns: Failed\u001b[0m\u001b[1;31;47m                                                \u001b[0m\n"
      ]
     },
     "metadata": {},
     "output_type": "display_data"
    },
    {
     "name": "stdout",
     "output_type": "stream",
     "text": [
      "https://aottest.Kaiserfranz-engineering.de\n",
      "()\n",
      "test for site containing text \n",
      "site should contain welcome to aottest\n",
      "gettting https://api.kaiserfranz-engineering.de/\n"
     ]
    },
    {
     "data": {
      "text/html": [
       "<pre style=\"white-space:pre;overflow-x:auto;line-height:normal;font-family:Menlo,'DejaVu Sans Mono',consolas,'Courier New',monospace\"><span style=\"color: #800000; text-decoration-color: #800000; background-color: #c0c0c0; font-weight: bold\">Test for </span><span style=\"color: #0000ff; text-decoration-color: #0000ff; background-color: #c0c0c0; text-decoration: underline\">https://api.kaiserfranz-engineering.de/</span><span style=\"color: #800000; text-decoration-color: #800000; background-color: #c0c0c0; font-weight: bold\"> returns: Failed                                                   </span>\n",
       "</pre>\n"
      ],
      "text/plain": [
       "\u001b[1;31;47mTest for \u001b[0m\u001b[4;94;47mhttps://api.kaiserfranz-engineering.de/\u001b[0m\u001b[1;31;47m returns: Failed\u001b[0m\u001b[1;31;47m                                                   \u001b[0m\n"
      ]
     },
     "metadata": {},
     "output_type": "display_data"
    },
    {
     "name": "stdout",
     "output_type": "stream",
     "text": [
      "https://api.kaiserfranz-engineering.de/\n",
      "()\n",
      "test for site containing text \n",
      "site should contain test\n",
      "gettting https://api.kaiserfranz-engineering.de/api\n"
     ]
    },
    {
     "data": {
      "text/html": [
       "<pre style=\"white-space:pre;overflow-x:auto;line-height:normal;font-family:Menlo,'DejaVu Sans Mono',consolas,'Courier New',monospace\"><span style=\"color: #800000; text-decoration-color: #800000; background-color: #c0c0c0; font-weight: bold\">Test for </span><span style=\"color: #0000ff; text-decoration-color: #0000ff; background-color: #c0c0c0; text-decoration: underline\">https://api.kaiserfranz-engineering.de/api</span><span style=\"color: #800000; text-decoration-color: #800000; background-color: #c0c0c0; font-weight: bold\"> returns: Failed                                                </span>\n",
       "</pre>\n"
      ],
      "text/plain": [
       "\u001b[1;31;47mTest for \u001b[0m\u001b[4;94;47mhttps://api.kaiserfranz-engineering.de/api\u001b[0m\u001b[1;31;47m returns: Failed\u001b[0m\u001b[1;31;47m                                                \u001b[0m\n"
      ]
     },
     "metadata": {},
     "output_type": "display_data"
    },
    {
     "name": "stdout",
     "output_type": "stream",
     "text": [
      "https://api.kaiserfranz-engineering.de/api\n",
      "()\n",
      "test for site containing text \n",
      "site should contain models\n"
     ]
    }
   ],
   "source": [
    "\n",
    "#NOTE We use selenum, because it is present on all windows machines with the same path.\n",
    "#NOTE IMPORTANT: use selenium version 4 and upwards\n",
    "\n",
    "driver = webdriver.Edge(executable_path = r\"./msedgedriver.exe\") # Modify the path here...\n",
    "\n",
    "\n",
    "def ExecuteSeleniumTests(actions):\n",
    "    '''This function takes an array of arrays of strings. The Strings are seperated by | and mapped onto selenium dirver actions.'''\n",
    "    for data in actions:\n",
    "        for action in data:\n",
    "            try:\n",
    "                if 'http' in action:\n",
    "                    print(f'gettting {action}')\n",
    "                    driver.get(action)\n",
    "                elif 'present?' in action:\n",
    "\n",
    "                    print(f'checking if element is present{action}')\n",
    "                    args = action.split('|')\n",
    "                    webEl  = driver.find_element_by_xpath(f\"//{args[2]}[@{args[0]}='{args[1]}']\")\n",
    "                    if webEl.is_displayed():\n",
    "                        console.print(f'Test for {data[0]} returns: SUCCESS', style='bold green on white', justify='left')\n",
    "                        continue\n",
    "                elif 'xpath' in action: \n",
    "                    print(f'clicking with xpath{action}')\n",
    "                    el= driver.find_element_by_xpath(action.split('|')[0])\n",
    "                    if action.split('|')[2] == 'click':\n",
    "                        el.click()\n",
    "\n",
    "                elif action.count('in?'):\n",
    "                    print(f'test for site containing text ')\n",
    "                    text = action.split('|')[1] \n",
    "                    print(f'site should contain {text}')\n",
    "                    if text in driver.page_source:\n",
    "                        console.print(f'Test for {data[0]} returns: SUCCESS', style='bold green on white', justify='left')\n",
    "                        continue\n",
    "                elif 'wait?' in action: \n",
    "                    print('waiting')\n",
    "                    time.sleep(int(action.split('|')[0]))\n",
    "\n",
    "                elif 'submit?' in action: \n",
    "                    print('submitting')\n",
    "                    time.sleep(1)\n",
    "                    webEl  = driver.find_element_by_xpath(f\"//{args[2]}[@{args[0]}='{args[1]}']\")\n",
    "                    webEl.submit()\n",
    "                elif 'url?' in action: \n",
    "                    print(f'checking for url match{action}')\n",
    "                    time.sleep(4)\n",
    "                    print(action)\n",
    "                    args = action.split('|')\n",
    "                    print(args[0] + ' ' + driver.current_url)\n",
    "                    if args[0] == driver.current_url:\n",
    "                        console.print(f'Test for {data[0]} returns: SUCCESS', style='bold green on white', justify='left')\n",
    "                        continue\n",
    "                else:\n",
    "                    print('locating element')\n",
    "                    args = action.split('|')\n",
    "                    webEl  = driver.find_element_by_xpath(f\"//{args[2]}[@{args[0]}='{args[1]}']\")\n",
    "                    if args[3] =='click':\n",
    "                        driver.implicitly_wait(1)\n",
    "                        webEl.click()\n",
    "                    else:\n",
    "                            webEl.send_keys(args[3])\n",
    "            \n",
    "            except Exception as e:\n",
    "                console.print(f'Test for {data[0]} returns: Failed', style='bold red on white', justify='left')\n",
    "                print(action)\n",
    "                print(e.args)\n",
    "                continue\n",
    "    driver.close()\n",
    "\n",
    "ExecuteSeleniumTests(SeleniumData)"
   ]
  },
  {
   "cell_type": "code",
   "execution_count": null,
   "metadata": {},
   "outputs": [],
   "source": []
  }
 ],
 "metadata": {
  "kernelspec": {
   "display_name": "base",
   "language": "python",
   "name": "python3"
  },
  "language_info": {
   "codemirror_mode": {
    "name": "ipython",
    "version": 3
   },
   "file_extension": ".py",
   "mimetype": "text/x-python",
   "name": "python",
   "nbconvert_exporter": "python",
   "pygments_lexer": "ipython3",
   "version": "3.9.7"
  },
  "orig_nbformat": 4,
  "vscode": {
   "interpreter": {
    "hash": "f167d7208f068a761a61c7abe8a19a71cbf6c597593c47696850f64e310bbdac"
   }
  }
 },
 "nbformat": 4,
 "nbformat_minor": 2
}
