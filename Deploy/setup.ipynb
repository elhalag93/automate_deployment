{
  "cells": [
    {
      "cell_type": "code",
      "execution_count": 1,
      "metadata": {},
      "outputs": [
        {
          "name": "stderr",
          "output_type": "stream",
          "text": [
            "c:\\ProgramData\\Anaconda3\\lib\\site-packages\\paramiko\\transport.py:219: CryptographyDeprecationWarning: Blowfish has been deprecated\n",
            "  \"class\": algorithms.Blowfish,\n"
          ]
        }
      ],
      "source": [
        "import functions as fun\n",
        "import json\n",
        "import paramiko\n",
        "confs = open(\"./config.json\")\n",
        "confs = json.load(confs)\n",
        "\n",
        "server = confs[\"server\"]\n",
        "port = confs[\"port\"]\n",
        "username = confs[\"username\"]\n",
        "password = confs[\"password\"]\n",
        "DeployBranch = confs[\"DeployBranch\"]\n",
        "githubKey = confs[\"githubKey\"]\n",
        "RepoLink = confs[\"RepoLink\"]\n",
        "domain = confs[\"domain\"]\n",
        "RootUrl = confs[\"RootUrl\"]\n",
        "sudomains=[]\n",
        "sudomains=confs[\"sudomains\"]\n"
      ]
    },
    {
      "attachments": {},
      "cell_type": "markdown",
      "metadata": {},
      "source": [
        "### establish connection to the sevrer with  credentials provided in config.json file "
      ]
    },
    {
      "cell_type": "code",
      "execution_count": 2,
      "metadata": {},
      "outputs": [
        {
          "name": "stdout",
          "output_type": "stream",
          "text": [
            "217.160.100.1822root%P3Pko@!9S\n",
            "\n",
            "==================================================================================================\n",
            "COMMAND: uname -a\n",
            "OUTPUT: Linux localhost 5.10.0-21-amd64 #1 SMP Debian 5.10.162-1 (2023-01-21) x86_64 GNU/Linux\n",
            "\n",
            "ERROR: \n",
            "\n",
            "==================================================================================================\n",
            "COMMAND: ls -l\n",
            "OUTPUT: total 0\n",
            "\n",
            "ERROR: \n",
            "\n",
            "==================================================================================================\n",
            "COMMAND: git --version\n",
            "OUTPUT: \n",
            "ERROR: bash: line 1: git: command not found\n",
            "\n",
            "\n",
            "==================================================================================================\n",
            "COMMAND: echo $SHELL | bash -\n",
            "OUTPUT: \n",
            "ERROR: \n",
            "\n",
            "==================================================================================================\n",
            "COMMAND: echo $SHELL\n",
            "OUTPUT: /bin/bash\n",
            "\n",
            "ERROR: \n"
          ]
        }
      ],
      "source": [
        "p, conn = fun.InitClient()\n"
      ]
    },
    {
      "attachments": {},
      "cell_type": "markdown",
      "metadata": {},
      "source": [
        "### create nginx config file for each subdomains localy "
      ]
    },
    {
      "cell_type": "code",
      "execution_count": 4,
      "metadata": {},
      "outputs": [
        {
          "name": "stdout",
          "output_type": "stream",
          "text": [
            "\n",
            "==================================================================================================\n",
            "COMMAND: [ -d \"/etc/ssl\" ] &&  echo \" /etc/ssl directoty  exsist\" ||  ( echo 'directory not exsist .. creating /etc/ssl directory' && mkdir -p /etc/ssl)\n",
            "OUTPUT:  /etc/ssl directoty  exsist\n",
            "\n",
            "ERROR: \n",
            "\n",
            "==================================================================================================\n",
            "COMMAND: cp -r /root/ExpressBareboneAutomation/Deploy/SSL/*.pem /etc/ssl\n",
            "OUTPUT: \n",
            "ERROR: cp: cannot stat '/root/ExpressBareboneAutomation/Deploy/SSL/*.pem': No such file or directory\n",
            "\n",
            "\n",
            "==================================================================================================\n",
            "COMMAND: cp -r /root/ExpressBareboneAutomation/Deploy/SSL/*.key /etc/ssl\n",
            "OUTPUT: \n",
            "ERROR: cp: cannot stat '/root/ExpressBareboneAutomation/Deploy/SSL/*.key': No such file or directory\n",
            "\n",
            "\n",
            "==================================================================================================\n",
            "COMMAND: cp -r /root/ExpressBareboneAutomation/Deploy/SSL/*.crt /etc/ssl\n",
            "OUTPUT: \n",
            "ERROR: cp: cannot stat '/root/ExpressBareboneAutomation/Deploy/SSL/*.crt': No such file or directory\n",
            "\n",
            "\n",
            "==================================================================================================\n",
            "COMMAND: cp -r /root/ExpressBareboneAutomation/Deploy/SSL/*.cer /etc/ssl\n",
            "OUTPUT: \n",
            "ERROR: cp: cannot stat '/root/ExpressBareboneAutomation/Deploy/SSL/*.cer': No such file or directory\n",
            "\n",
            "\n",
            "==================================================================================================\n",
            "COMMAND: echo 127.0.0.1 api.Kaiserfranz-engineering.de >> /etc/hosts \n",
            "OUTPUT: \n",
            "ERROR: \n",
            "\n",
            "==================================================================================================\n",
            "COMMAND: cat /etc/ssl/domain.cer /etc/ssl/intermediate.cer > /etc/ssl/jointCert.cer\n",
            "OUTPUT: \n",
            "ERROR: cat: /etc/ssl/domain.cer: No such file or directory\n",
            "cat: /etc/ssl/intermediate.cer: No such file or directory\n",
            "\n",
            "\n",
            "==================================================================================================\n",
            "COMMAND: mv /etc/nginx/sites-enabled/default /default\n",
            "OUTPUT: \n",
            "ERROR: mv: cannot stat '/etc/nginx/sites-enabled/default': No such file or directory\n",
            "\n",
            "\n",
            "==================================================================================================\n",
            "COMMAND: [ -f \"/etc/nginx/sites-enabled/api.Kaiserfranz-engineering.de\" ] &&  echo \" /etc/nginx/sites-enabled/api.Kaiserfranz-engineering.de file  exsist\" ||  ( echo 'file not exsist .. creating /etc/nginx/sites-enabled/api.Kaiserfranz-engineering.de' && touch /etc/nginx/sites-enabled/api.Kaiserfranz-engineering.de)\n",
            "OUTPUT: file not exsist .. creating /etc/nginx/sites-enabled/api.Kaiserfranz-engineering.de\n",
            "\n",
            "ERROR: touch: cannot touch '/etc/nginx/sites-enabled/api.Kaiserfranz-engineering.de': No such file or directory\n",
            "\n",
            "\n",
            "==================================================================================================\n",
            "COMMAND: cat /root/ExpressBareboneAutomation/Deploy/Nginx/api.Kaiserfranz-engineering.de.txt  >  /etc/nginx/sites-enabled/api.Kaiserfranz-engineering.de\n",
            "OUTPUT: \n",
            "ERROR: bash: line 1: /etc/nginx/sites-enabled/api.Kaiserfranz-engineering.de: No such file or directory\n",
            "\n",
            "\n",
            "==================================================================================================\n",
            "COMMAND: nginx -t\n",
            "OUTPUT: \n",
            "ERROR: bash: line 1: nginx: command not found\n",
            "\n",
            "\n",
            "==================================================================================================\n",
            "COMMAND: systemctl restart nginx\n",
            "OUTPUT: \n",
            "ERROR: Failed to restart nginx.service: Unit nginx.service not found.\n",
            "\n"
          ]
        }
      ],
      "source": [
        "fun.nginx_subdomain(sudomains)"
      ]
    },
    {
      "attachments": {},
      "cell_type": "markdown",
      "metadata": {},
      "source": [
        "# Create Joint Certificate locally\n",
        "\n",
        "This needs to be created so that we can test servers locally so that a server can be locally debugged witht the final SSL certificate."
      ]
    },
    {
      "cell_type": "code",
      "execution_count": null,
      "metadata": {},
      "outputs": [],
      "source": [
        "fun.CreateJointSSL()\n"
      ]
    },
    {
      "attachments": {},
      "cell_type": "markdown",
      "metadata": {},
      "source": [
        "### clone the  repo on the  server "
      ]
    },
    {
      "cell_type": "code",
      "execution_count": null,
      "metadata": {},
      "outputs": [],
      "source": [
        "fun.ClonePull(conn)"
      ]
    },
    {
      "attachments": {},
      "cell_type": "markdown",
      "metadata": {},
      "source": [
        "### install js & npm and pm2 module"
      ]
    },
    {
      "cell_type": "code",
      "execution_count": null,
      "metadata": {},
      "outputs": [],
      "source": [
        "fun.install_js_pm2_npm(conn)\n"
      ]
    },
    {
      "attachments": {},
      "cell_type": "markdown",
      "metadata": {},
      "source": [
        "### build project on the server "
      ]
    },
    {
      "cell_type": "code",
      "execution_count": null,
      "metadata": {},
      "outputs": [],
      "source": [
        "fun.NPMInstall(conn)"
      ]
    },
    {
      "attachments": {},
      "cell_type": "markdown",
      "metadata": {},
      "source": [
        "### install nginx "
      ]
    },
    {
      "cell_type": "code",
      "execution_count": null,
      "metadata": {},
      "outputs": [],
      "source": [
        "fun.install_nginx(conn)\n"
      ]
    },
    {
      "attachments": {},
      "cell_type": "markdown",
      "metadata": {},
      "source": [
        "### setup nginx with subdomains & ssl certficate "
      ]
    },
    {
      "cell_type": "code",
      "execution_count": null,
      "metadata": {},
      "outputs": [],
      "source": [
        "fun.setup_https(conn)"
      ]
    },
    {
      "cell_type": "code",
      "execution_count": null,
      "metadata": {},
      "outputs": [],
      "source": [
        "fun.api_nginx(conn)"
      ]
    },
    {
      "cell_type": "code",
      "execution_count": null,
      "metadata": {},
      "outputs": [],
      "source": [
        "fun.ClonePull(conn)"
      ]
    },
    {
      "cell_type": "code",
      "execution_count": null,
      "metadata": {},
      "outputs": [],
      "source": [
        "fun.NPMInstall(conn)\n",
        "\n",
        "# fun.build(conn)"
      ]
    },
    {
      "cell_type": "code",
      "execution_count": null,
      "metadata": {},
      "outputs": [],
      "source": []
    }
  ],
  "metadata": {
    "kernelspec": {
      "display_name": "Python 3",
      "language": "python",
      "name": "python3"
    },
    "language_info": {
      "codemirror_mode": {
        "name": "ipython",
        "version": 3
      },
      "file_extension": ".py",
      "mimetype": "text/x-python",
      "name": "python",
      "nbconvert_exporter": "python",
      "pygments_lexer": "ipython3",
      "version": "3.9.13"
    },
    "orig_nbformat": 4,
    "vscode": {
      "interpreter": {
        "hash": "ad2bdc8ecc057115af97d19610ffacc2b4e99fae6737bb82f5d7fb13d2f2c186"
      }
    }
  },
  "nbformat": 4,
  "nbformat_minor": 2
}
